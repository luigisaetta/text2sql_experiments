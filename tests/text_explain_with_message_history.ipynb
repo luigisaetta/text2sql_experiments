{
 "cells": [
  {
   "cell_type": "markdown",
   "id": "2f455d15-7b3f-42e9-a224-6efb4d5aa76a",
   "metadata": {},
   "source": [
    "### Test explain data with Message History\n",
    "* in this notebook we explore how we can use **all the message history** to help analyze the retrieved data.\n",
    "* routing is not shown here, see others NB"
   ]
  },
  {
   "cell_type": "code",
   "execution_count": 1,
   "id": "b3796616-9c66-4bf4-b606-77ea038dce9e",
   "metadata": {},
   "outputs": [],
   "source": [
    "import os\n",
    "import sys\n",
    "\n",
    "# Set the PYTHONPATH environment variable\n",
    "os.environ['PYTHONPATH'] = '..'\n",
    "\n",
    "# Add it to sys.path so that it's included in the Python import path\n",
    "sys.path.append(os.environ['PYTHONPATH'])"
   ]
  },
  {
   "cell_type": "code",
   "execution_count": 2,
   "id": "a575d913-68a3-4883-a3b4-a0b805c13251",
   "metadata": {},
   "outputs": [
    {
     "name": "stderr",
     "output_type": "stream",
     "text": [
      "/Users/lsaetta/miniforge3/envs/text2sql/lib/python3.11/site-packages/tqdm/auto.py:21: TqdmWarning: IProgress not found. Please update jupyter and ipywidgets. See https://ipywidgets.readthedocs.io/en/stable/user_install.html\n",
      "  from .autonotebook import tqdm as notebook_tqdm\n"
     ]
    }
   ],
   "source": [
    "from langchain_core.prompts import ChatPromptTemplate, MessagesPlaceholder\n",
    "from langchain_core.messages import HumanMessage\n",
    "from database_manager import DatabaseManager\n",
    "from llm_manager import LLMManager\n",
    "from ai_sql_agent import AISQLAgent\n",
    "\n",
    "from prompt_template import PROMPT_TEMPLATE\n",
    "from utils import get_console_logger\n",
    "\n",
    "from config import (\n",
    "    AUTH_TYPE,\n",
    "    CONNECT_ARGS,\n",
    "    MODEL_LIST,\n",
    "    MODEL_ENDPOINTS,\n",
    "    TEMPERATURE,\n",
    "    EMBED_MODEL_NAME,\n",
    "    EMBED_ENDPOINT,\n",
    "    INDEX_MODEL_FOR_EXPLANATION\n",
    ")\n",
    "from config_private import COMPARTMENT_OCID"
   ]
  },
  {
   "cell_type": "markdown",
   "id": "1ac2ef08-01ea-4795-9ed6-0c5f964ccdb7",
   "metadata": {},
   "source": [
    "#### Setup"
   ]
  },
  {
   "cell_type": "code",
   "execution_count": 3,
   "id": "5ed45795-c114-4f50-a283-41a7a2261691",
   "metadata": {},
   "outputs": [
    {
     "name": "stderr",
     "output_type": "stream",
     "text": [
      "2024-10-09 09:32:53,090 - LLMManager: Initialising the list of models...\n",
      "2024-10-09 09:32:53,091 - Model: meta.llama-3.1-70b-instruct\n",
      "2024-10-09 09:32:53,293 - Model: cohere.command-r-plus\n",
      "2024-10-09 09:32:53,359 - Model: meta.llama-3.1-405b-instruct\n",
      "2024-10-09 09:32:53,424 - Connecting to the Database...\n",
      "2024-10-09 09:32:53,437 - DB engine created...\n",
      "2024-10-09 09:32:53,438 - Connecting to the Database...\n",
      "2024-10-09 09:32:53,438 - DB engine created...\n",
      "2024-10-09 09:32:53,438 - LLMManager: Initialising the list of models...\n",
      "2024-10-09 09:32:53,438 - Model: meta.llama-3.1-70b-instruct\n",
      "2024-10-09 09:32:53,505 - Model: cohere.command-r-plus\n",
      "2024-10-09 09:32:53,571 - Model: meta.llama-3.1-405b-instruct\n",
      "2024-10-09 09:32:53,702 - Loading Schema Manager...\n",
      "2024-10-09 09:32:53,702 - AI SQL Agent initialized successfully.\n"
     ]
    }
   ],
   "source": [
    "logger = get_console_logger()\n",
    "\n",
    "llm_manager = LLMManager(\n",
    "    MODEL_LIST, MODEL_ENDPOINTS, COMPARTMENT_OCID, TEMPERATURE, logger\n",
    ")\n",
    "\n",
    "db_manager = DatabaseManager(CONNECT_ARGS, logger)\n",
    "\n",
    "ai_sql_agent = AISQLAgent(\n",
    "        CONNECT_ARGS,\n",
    "        MODEL_LIST,\n",
    "        MODEL_ENDPOINTS,\n",
    "        COMPARTMENT_OCID,\n",
    "        EMBED_MODEL_NAME,\n",
    "        EMBED_ENDPOINT,\n",
    "        TEMPERATURE,\n",
    "        PROMPT_TEMPLATE,\n",
    "    )\n",
    "\n",
    "# the model used for the explanation\n",
    "llm_c = llm_manager.llm_models[\n",
    "            INDEX_MODEL_FOR_EXPLANATION]\n",
    "\n",
    "PREAMBLE = \"\"\"You are an AI assistant.\n",
    "Your task is to explain the provided data and respond to requests by referencing both the given data and the conversation history.\n",
    "Base your answers strictly on the provided information and prior messages in the conversation.\n",
    "\"\"\"\n",
    "\n",
    "analyze_template = ChatPromptTemplate.from_messages([\n",
    "    (\"system\", PREAMBLE),\n",
    "    MessagesPlaceholder(\"msgs\")\n",
    "])"
   ]
  },
  {
   "cell_type": "markdown",
   "id": "6d485c5b-171c-4c3e-8c63-e3913a1f80e7",
   "metadata": {},
   "source": [
    "#### Let's retrieve some data"
   ]
  },
  {
   "cell_type": "code",
   "execution_count": 4,
   "id": "c17cd0f7-8c5c-47c1-811a-305eba993e46",
   "metadata": {},
   "outputs": [
    {
     "name": "stderr",
     "output_type": "stream",
     "text": [
      "2024-10-09 09:34:36,157 - Generating restricted schema for user request...\n",
      "2024-10-09 09:34:37,644 - Identifying relevant tables for query...\n",
      "2024-10-09 09:34:37,646 - - COUNTRIES\n",
      "2024-10-09 09:34:37,647 - - SALES\n",
      "2024-10-09 09:34:37,648 - - PRODUCTS\n",
      "2024-10-09 09:34:37,649 - - CHANNELS\n",
      "2024-10-09 09:34:37,649 - - CUSTOMERS\n",
      "2024-10-09 09:34:37,649 - - HR_COUNTRIES\n",
      "2024-10-09 09:34:45,916 - Reranker result:\n",
      "2024-10-09 09:34:45,918 - ['SALES', 'PRODUCTS', 'CUSTOMERS', 'COUNTRIES']\n",
      "2024-10-09 09:34:45,919 - \n",
      "2024-10-09 09:34:45,954 - Restricted schema generated.\n",
      "2024-10-09 09:34:45,958 - Generating SQL query...\n",
      "2024-10-09 09:34:50,689 - SQL query generated.\n",
      "2024-10-09 09:35:02,053 - Found 20 rows..\n"
     ]
    }
   ],
   "source": [
    "# let's retrieve some data\n",
    "user_request = \"List the top 20 sales by total amount, with product name, customer name, country name for sales in Europe\"\n",
    "\n",
    "sql_query = ai_sql_agent.generate_sql_query(user_request, user_group_id=None)\n",
    "\n",
    "# rows is a list of dict\n",
    "rows = db_manager.execute_sql(sql_query)"
   ]
  },
  {
   "cell_type": "code",
   "execution_count": 6,
   "id": "ac4e12f9-1666-4a34-aa73-305498a78055",
   "metadata": {},
   "outputs": [
    {
     "data": {
      "text/plain": [
       "ChatPromptValue(messages=[SystemMessage(content='You are an AI assistant.\\nYour task is to explain the provided data and respond to requests by referencing both the given data and the conversation history.\\nBase your answers strictly on the provided information and prior messages in the conversation.\\n', additional_kwargs={}, response_metadata={}), HumanMessage(content=\"These are the data for your analysis.\\nData: \\n[{'prod_name': 'Envoy Ambassador', 'customer_name': 'Zoe Ballanger', 'country_name': 'United Kingdom', 'amount_sold': Decimal('1782.72')}, {'prod_name': 'Envoy Ambassador', 'customer_name': 'Trevor Manson', 'country_name': 'Spain', 'amount_sold': Decimal('1782.72')}, {'prod_name': 'Envoy Ambassador', 'customer_name': 'Chadwick Klemm', 'country_name': 'Denmark', 'amount_sold': Decimal('1782.72')}, {'prod_name': 'Envoy Ambassador', 'customer_name': 'Zillah Driscoll', 'country_name': 'United Kingdom', 'amount_sold': Decimal('1782.72')}, {'prod_name': 'Envoy Ambassador', 'customer_name': 'Isabel Baley', 'country_name': 'United Kingdom', 'amount_sold': Decimal('1782.72')}, {'prod_name': 'Envoy Ambassador', 'customer_name': 'Ines Lovett', 'country_name': 'Spain', 'amount_sold': Decimal('1782.72')}, {'prod_name': 'Envoy Ambassador', 'customer_name': 'Brett Kugel', 'country_name': 'Germany', 'amount_sold': Decimal('1782.72')}, {'prod_name': 'Envoy Ambassador', 'customer_name': 'Antony Chinn', 'country_name': 'United Kingdom', 'amount_sold': Decimal('1782.72')}, {'prod_name': 'Envoy Ambassador', 'customer_name': 'Harrie Rider', 'country_name': 'Germany', 'amount_sold': Decimal('1782.72')}, {'prod_name': 'Envoy Ambassador', 'customer_name': 'Buddy Chen', 'country_name': 'Germany', 'amount_sold': Decimal('1782.72')}, {'prod_name': 'Envoy Ambassador', 'customer_name': 'Hannah Feldman', 'country_name': 'Germany', 'amount_sold': Decimal('1782.72')}, {'prod_name': 'Envoy Ambassador', 'customer_name': 'Goddard Remler', 'country_name': 'United Kingdom', 'amount_sold': Decimal('1782.72')}, {'prod_name': 'Envoy Ambassador', 'customer_name': 'Desma Janssen', 'country_name': 'Italy', 'amount_sold': Decimal('1782.72')}, {'prod_name': 'Envoy Ambassador', 'customer_name': 'Hannah Gutierrez', 'country_name': 'Germany', 'amount_sold': Decimal('1782.72')}, {'prod_name': 'Envoy Ambassador', 'customer_name': 'Belle East', 'country_name': 'France', 'amount_sold': Decimal('1782.72')}, {'prod_name': 'Envoy Ambassador', 'customer_name': 'Biddy Titus', 'country_name': 'Germany', 'amount_sold': Decimal('1782.72')}, {'prod_name': 'Envoy Ambassador', 'customer_name': 'Regina Ogletree', 'country_name': 'United Kingdom', 'amount_sold': Decimal('1782.72')}, {'prod_name': 'Envoy Ambassador', 'customer_name': 'Riva Dunbar', 'country_name': 'Germany', 'amount_sold': Decimal('1782.72')}, {'prod_name': 'Envoy Ambassador', 'customer_name': 'Isabel Kitchens', 'country_name': 'Germany', 'amount_sold': Decimal('1782.72')}, {'prod_name': 'Envoy Ambassador', 'customer_name': 'Fran Keeting', 'country_name': 'Germany', 'amount_sold': Decimal('1782.72')}]\", additional_kwargs={}, response_metadata={})])"
      ]
     },
     "execution_count": 6,
     "metadata": {},
     "output_type": "execute_result"
    }
   ],
   "source": [
    "# put the data in the chat history\n",
    "msgs = [\n",
    "    # rows must be string not list\n",
    "    HumanMessage(content=\"These are the data for your analysis.\\nData: \\n\" + str(rows)), \n",
    "]\n",
    "\n",
    "# have a look at the template\n",
    "analyze_template.invoke({\"msgs\": msgs})"
   ]
  },
  {
   "cell_type": "code",
   "execution_count": 7,
   "id": "e3b0342b-71ce-49c5-88f6-48d75ea52e53",
   "metadata": {},
   "outputs": [],
   "source": [
    "# the chain\n",
    "analyze_chain = analyze_template | llm_c"
   ]
  },
  {
   "cell_type": "markdown",
   "id": "e5b57a71-120f-4ca5-bd3b-e992b86873d2",
   "metadata": {},
   "source": [
    "#### Simulate a conversation with a set of requests"
   ]
  },
  {
   "cell_type": "code",
   "execution_count": 8,
   "id": "f6be5336-e942-47e3-af50-7e42ad32b9d6",
   "metadata": {},
   "outputs": [
    {
     "name": "stdout",
     "output_type": "stream",
     "text": [
      "**Sales Report for Envoy Ambassador**\n",
      "\n",
      "**Summary:**\n",
      "\n",
      "The provided data shows sales information for the product \"Envoy Ambassador\" across various countries. The report highlights the total sales, country-wise sales, and customer information.\n",
      "\n",
      "**Total Sales:**\n",
      "\n",
      "The total sales for Envoy Ambassador amount to **$35,654.40** (calculated by summing up the 'amount_sold' values).\n",
      "\n",
      "**Country-wise Sales:**\n",
      "\n",
      "The sales are distributed across the following countries:\n",
      "\n",
      "1. **United Kingdom**: 6 customers, total sales: **$10,696.32**\n",
      "2. **Germany**: 9 customers, total sales: **$16,044.48**\n",
      "3. **Spain**: 2 customers, total sales: **$3,565.44**\n",
      "4. **Denmark**: 1 customer, total sales: **$1,782.72**\n",
      "5. **Italy**: 1 customer, total sales: **$1,782.72**\n",
      "6. **France**: 1 customer, total sales: **$1,782.72**\n",
      "\n",
      "**Customer Information:**\n",
      "\n",
      "The data includes 20 customers who purchased the Envoy Ambassador product. The customers are from various countries, with the majority being from Germany (9 customers) and the United Kingdom (6 customers).\n",
      "\n",
      "**Product Information:**\n",
      "\n",
      "The Envoy Ambassador product is sold at a uniform price of **$1,782.72** to all customers across different countries.\n",
      "\n",
      "This report provides a summary of the sales data for the Envoy Ambassador product. If you have any specific questions or would like further analysis, please let me know!\n",
      "CPU times: user 43 ms, sys: 6.77 ms, total: 49.8 ms\n",
      "Wall time: 17.1 s\n"
     ]
    }
   ],
   "source": [
    "%%time\n",
    "# the first request\n",
    "msgs.append(HumanMessage(content=\"Create a report.\"))\n",
    "            \n",
    "ai_message_out = analyze_chain.invoke({\"msgs\": msgs})\n",
    "print(ai_message_out.content)\n",
    "\n",
    "# save the result in history\n",
    "msgs.append(ai_message_out)"
   ]
  },
  {
   "cell_type": "markdown",
   "id": "cb086df8-0696-490f-a9b5-2607df43d9b6",
   "metadata": {},
   "source": [
    "##### a loop with a set of additional questions (and answers)"
   ]
  },
  {
   "cell_type": "code",
   "execution_count": 9,
   "id": "4a1eea68-acdf-444b-ae52-d230ddc81b8e",
   "metadata": {},
   "outputs": [
    {
     "name": "stdout",
     "output_type": "stream",
     "text": [
      "\n",
      "1 Question: Ok, show me only Country Sales for Spain and Italy\n",
      "\n",
      "Here is the country-wise sales information for Spain and Italy:\n",
      "\n",
      "1. **Spain**: 2 customers, total sales: **$3,565.44**\n",
      "2. **Italy**: 1 customer, total sales: **$1,782.72**\n",
      "\n",
      "\n",
      "2 Question: Ok, format all the result in a table.\n",
      "\n",
      "Here is the country-wise sales information for Spain and Italy in a table format:\n",
      "\n",
      "| **Country** | **Number of Customers** | **Total Sales** |\n",
      "| --- | --- | --- |\n",
      "| Spain | 2 | $3,565.44 |\n",
      "| Italy | 1 | $1,782.72 |\n",
      "\n",
      "\n",
      "3 Question: No I wanted all the sales in a table, not only Spain and Italy\n",
      "\n",
      "Here is the complete sales data in a table format:\n",
      "\n",
      "| **Country** | **Number of Customers** | **Total Sales** |\n",
      "| --- | --- | --- |\n",
      "| United Kingdom | 6 | $10,696.32 |\n",
      "| Germany | 9 | $16,044.48 |\n",
      "| Spain | 2 | $3,565.44 |\n",
      "| Denmark | 1 | $1,782.72 |\n",
      "| Italy | 1 | $1,782.72 |\n",
      "| France | 1 | $1,782.72 |\n",
      "\n",
      "Let me know if you'd like me to add any other columns or details to the table!\n",
      "\n",
      "\n",
      "4 Question: Organize the table putting closely rows with the same country\n",
      "\n",
      "Since there are no duplicate country rows, the table remains the same. However, I can organize the table alphabetically by country, which will group rows with the same country (if there were any) together:\n",
      "\n",
      "| **Country** | **Number of Customers** | **Total Sales** |\n",
      "| --- | --- | --- |\n",
      "| Denmark | 1 | $1,782.72 |\n",
      "| France | 1 | $1,782.72 |\n",
      "| Germany | 9 | $16,044.48 |\n",
      "| Italy | 1 | $1,782.72 |\n",
      "| Spain | 2 | $3,565.44 |\n",
      "| United Kingdom | 6 | $10,696.32 |\n",
      "\n",
      "Let me know if you have any further requests!\n",
      "\n",
      "\n",
      "5 Question: Oh, but I wanted in the table the rows with sales, \n",
      "                        organize the table by putting closely rows with the same country\n",
      "\n",
      "Since the original data has multiple sales for the same country, I will recreate the table with individual sales rows, organized by country:\n",
      "\n",
      "| **Country** | **Customer Name** | **Product Name** | **Amount Sold** |\n",
      "| --- | --- | --- | --- |\n",
      "| Denmark | Chadwick Klemm | Envoy Ambassador | $1,782.72 |\n",
      "| France | Belle East | Envoy Ambassador | $1,782.72 |\n",
      "| Germany | Brett Kugel | Envoy Ambassador | $1,782.72 |\n",
      "| Germany | Harrie Rider | Envoy Ambassador | $1,782.72 |\n",
      "| Germany | Buddy Chen | Envoy Ambassador | $1,782.72 |\n",
      "| Germany | Hannah Feldman | Envoy Ambassador | $1,782.72 |\n",
      "| Germany | Hannah Gutierrez | Envoy Ambassador | $1,782.72 |\n",
      "| Germany | Biddy Titus | Envoy Ambassador | $1,782.72 |\n",
      "| Germany | Riva Dunbar | Envoy Ambassador | $1,782.72 |\n",
      "| Germany | Isabel Kitchens | Envoy Ambassador | $1,782.72 |\n",
      "| Germany | Fran Keeting | Envoy Ambassador | $1,782.72 |\n",
      "| Italy | Desma Janssen | Envoy Ambassador | $1,782.72 |\n",
      "| Spain | Trevor Manson | Envoy Ambassador | $1,782.72 |\n",
      "| Spain | Ines Lovett | Envoy Ambassador | $1,782.72 |\n",
      "| United Kingdom | Zoe Ballanger | Envoy Ambassador | $1,782.72 |\n",
      "| United Kingdom | Zillah Driscoll | Envoy Ambassador | $1,782.72 |\n",
      "| United Kingdom | Isabel Baley | Envoy Ambassador | $1,782.72 |\n",
      "| United Kingdom | Antony Chinn | Envoy Ambassador | $1,782.72 |\n",
      "| United Kingdom | Goddard Remler | Envoy Ambassador | $1,782.72 |\n",
      "| United Kingdom | Regina Ogletree | Envoy Ambassador | $1,782.72 |\n",
      "\n",
      "Now, rows with the same country are grouped together.\n",
      "\n"
     ]
    }
   ],
   "source": [
    "additional_questions = [\"Ok, show me only Country Sales for Spain and Italy\",\n",
    "                       \"Ok, format all the result in a table.\",\n",
    "                       \"No I wanted all the sales in a table, not only Spain and Italy\",\n",
    "                       \"Organize the table putting closely rows with the same country\",\n",
    "                       \"\"\"Oh, but I wanted in the table the rows with sales, \n",
    "                        organize the table by putting closely rows with the same country\"\"\"]\n",
    "\n",
    "#\n",
    "# loop to process the additional questions\n",
    "#\n",
    "for i, new_question in enumerate(additional_questions):\n",
    "    print(\"\")\n",
    "    print(f\"{i+1} Question:\", new_question)\n",
    "    print(\"\")\n",
    "    \n",
    "    # adding the new question\n",
    "    msgs.append(HumanMessage(new_question))\n",
    "\n",
    "    ai_message_out = analyze_chain.invoke({\"msgs\": msgs})\n",
    "    \n",
    "    print(ai_message_out.content)\n",
    "    print(\"\")\n",
    "\n",
    "    # save the result in history\n",
    "    msgs.append(ai_message_out)"
   ]
  },
  {
   "cell_type": "code",
   "execution_count": null,
   "id": "a86ab9d4-ea33-4e38-9856-f30dc0ee1aa6",
   "metadata": {},
   "outputs": [],
   "source": []
  }
 ],
 "metadata": {
  "kernelspec": {
   "display_name": "Python 3 (ipykernel)",
   "language": "python",
   "name": "python3"
  },
  "language_info": {
   "codemirror_mode": {
    "name": "ipython",
    "version": 3
   },
   "file_extension": ".py",
   "mimetype": "text/x-python",
   "name": "python",
   "nbconvert_exporter": "python",
   "pygments_lexer": "ipython3",
   "version": "3.11.0"
  }
 },
 "nbformat": 4,
 "nbformat_minor": 5
}
