{
 "cells": [
  {
   "cell_type": "markdown",
   "id": "2f455d15-7b3f-42e9-a224-6efb4d5aa76a",
   "metadata": {},
   "source": [
    "### Test explain data with Message History\n",
    "* in this notebook we explore how we can use **all the message history** to help analyze the retrieved data.\n",
    "* routing is not shown here, see others NB"
   ]
  },
  {
   "cell_type": "code",
   "execution_count": 1,
   "id": "b3796616-9c66-4bf4-b606-77ea038dce9e",
   "metadata": {},
   "outputs": [],
   "source": [
    "import os\n",
    "import sys\n",
    "\n",
    "# Set the PYTHONPATH environment variable\n",
    "os.environ['PYTHONPATH'] = '..'\n",
    "\n",
    "# Add it to sys.path so that it's included in the Python import path\n",
    "sys.path.append(os.environ['PYTHONPATH'])"
   ]
  },
  {
   "cell_type": "code",
   "execution_count": 2,
   "id": "a575d913-68a3-4883-a3b4-a0b805c13251",
   "metadata": {},
   "outputs": [
    {
     "name": "stderr",
     "output_type": "stream",
     "text": [
      "/Users/lsaetta/miniforge3/envs/text2sql/lib/python3.11/site-packages/tqdm/auto.py:21: TqdmWarning: IProgress not found. Please update jupyter and ipywidgets. See https://ipywidgets.readthedocs.io/en/stable/user_install.html\n",
      "  from .autonotebook import tqdm as notebook_tqdm\n"
     ]
    }
   ],
   "source": [
    "from langchain_core.prompts import ChatPromptTemplate, MessagesPlaceholder\n",
    "from langchain_core.messages import HumanMessage\n",
    "from database_manager import DatabaseManager\n",
    "from llm_manager import LLMManager\n",
    "from ai_sql_agent import AISQLAgent\n",
    "\n",
    "from prompt_template import PROMPT_TEMPLATE\n",
    "from utils import get_console_logger\n",
    "\n",
    "from config import (\n",
    "    AUTH_TYPE,\n",
    "    CONNECT_ARGS,\n",
    "    MODEL_LIST,\n",
    "    MODEL_ENDPOINTS,\n",
    "    TEMPERATURE,\n",
    "    EMBED_MODEL_NAME,\n",
    "    EMBED_ENDPOINT,\n",
    "    INDEX_MODEL_FOR_EXPLANATION\n",
    ")\n",
    "from config_private import COMPARTMENT_OCID"
   ]
  },
  {
   "cell_type": "markdown",
   "id": "1ac2ef08-01ea-4795-9ed6-0c5f964ccdb7",
   "metadata": {},
   "source": [
    "#### Setup"
   ]
  },
  {
   "cell_type": "code",
   "execution_count": 3,
   "id": "5ed45795-c114-4f50-a283-41a7a2261691",
   "metadata": {},
   "outputs": [
    {
     "name": "stderr",
     "output_type": "stream",
     "text": [
      "2024-10-09 09:12:09,470 - LLMManager: Initialising the list of models...\n",
      "2024-10-09 09:12:09,472 - Model: meta.llama-3.1-70b-instruct\n",
      "2024-10-09 09:12:09,671 - Model: cohere.command-r-plus\n",
      "2024-10-09 09:12:09,737 - Model: meta.llama-3.1-405b-instruct\n",
      "2024-10-09 09:12:09,803 - Connecting to the Database...\n",
      "2024-10-09 09:12:09,816 - DB engine created...\n",
      "2024-10-09 09:12:09,817 - Connecting to the Database...\n",
      "2024-10-09 09:12:09,817 - DB engine created...\n",
      "2024-10-09 09:12:09,817 - LLMManager: Initialising the list of models...\n",
      "2024-10-09 09:12:09,817 - Model: meta.llama-3.1-70b-instruct\n",
      "2024-10-09 09:12:09,884 - Model: cohere.command-r-plus\n",
      "2024-10-09 09:12:09,950 - Model: meta.llama-3.1-405b-instruct\n",
      "2024-10-09 09:12:10,081 - Loading Schema Manager...\n",
      "2024-10-09 09:12:10,081 - AI SQL Agent initialized successfully.\n"
     ]
    }
   ],
   "source": [
    "logger = get_console_logger()\n",
    "\n",
    "llm_manager = LLMManager(\n",
    "    MODEL_LIST, MODEL_ENDPOINTS, COMPARTMENT_OCID, TEMPERATURE, logger\n",
    ")\n",
    "\n",
    "db_manager = DatabaseManager(CONNECT_ARGS, logger)\n",
    "\n",
    "ai_sql_agent = AISQLAgent(\n",
    "        CONNECT_ARGS,\n",
    "        MODEL_LIST,\n",
    "        MODEL_ENDPOINTS,\n",
    "        COMPARTMENT_OCID,\n",
    "        EMBED_MODEL_NAME,\n",
    "        EMBED_ENDPOINT,\n",
    "        TEMPERATURE,\n",
    "        PROMPT_TEMPLATE,\n",
    "    )\n",
    "\n",
    "# the model used for the explanation\n",
    "llm_c = llm_manager.llm_models[\n",
    "            INDEX_MODEL_FOR_EXPLANATION]\n",
    "\n",
    "PREAMBLE = \"\"\"You are an AI assistant.\n",
    "Your task is to explain the provided data and respond to requests by referencing both the given data and the conversation history.\n",
    "Base your answers strictly on the provided information and prior messages in the conversation.\n",
    "\"\"\"\n",
    "\n",
    "analyze_template = ChatPromptTemplate.from_messages([\n",
    "    (\"system\", PREAMBLE),\n",
    "    MessagesPlaceholder(\"msgs\"),\n",
    "    # (\"user\", \"data: {data}\")\n",
    "])"
   ]
  },
  {
   "cell_type": "markdown",
   "id": "6d485c5b-171c-4c3e-8c63-e3913a1f80e7",
   "metadata": {},
   "source": [
    "#### Let's retrieve some data"
   ]
  },
  {
   "cell_type": "code",
   "execution_count": 4,
   "id": "c17cd0f7-8c5c-47c1-811a-305eba993e46",
   "metadata": {},
   "outputs": [
    {
     "name": "stderr",
     "output_type": "stream",
     "text": [
      "2024-10-09 09:12:11,423 - Generating restricted schema for user request...\n",
      "2024-10-09 09:12:12,896 - Identifying relevant tables for query...\n",
      "2024-10-09 09:12:12,899 - - COUNTRIES\n",
      "2024-10-09 09:12:12,900 - - SALES\n",
      "2024-10-09 09:12:12,904 - - PRODUCTS\n",
      "2024-10-09 09:12:12,907 - - CHANNELS\n",
      "2024-10-09 09:12:12,908 - - CUSTOMERS\n",
      "2024-10-09 09:12:12,909 - - HR_COUNTRIES\n",
      "2024-10-09 09:12:15,792 - Reranker result:\n",
      "2024-10-09 09:12:15,794 - ['SALES', 'PRODUCTS', 'CUSTOMERS', 'COUNTRIES']\n",
      "2024-10-09 09:12:15,797 - \n",
      "2024-10-09 09:12:15,835 - Restricted schema generated.\n",
      "2024-10-09 09:12:15,836 - Generating SQL query...\n",
      "2024-10-09 09:12:20,696 - SQL query generated.\n",
      "2024-10-09 09:12:32,057 - Found 20 rows..\n"
     ]
    }
   ],
   "source": [
    "# let's retrieve some data\n",
    "user_request = \"List the top 20 sales by total amount, with product name, customer name, country name for sales in Europe\"\n",
    "\n",
    "sql_query = ai_sql_agent.generate_sql_query(user_request, user_group_id=None)\n",
    "\n",
    "# rows is a list of dict\n",
    "rows = db_manager.execute_sql(sql_query)"
   ]
  },
  {
   "cell_type": "code",
   "execution_count": 5,
   "id": "ac4e12f9-1666-4a34-aa73-305498a78055",
   "metadata": {},
   "outputs": [
    {
     "data": {
      "text/plain": [
       "ChatPromptValue(messages=[SystemMessage(content='You are an AI assistant.\\nYour task is to explain the provided data and respond to requests by referencing both the given data and the conversation history.\\nBase your answers strictly on the provided information and prior messages in the conversation.\\n', additional_kwargs={}, response_metadata={}), HumanMessage(content='These data are related to sales', additional_kwargs={}, response_metadata={}), HumanMessage(content=\"data: \\n[{'prod_name': 'Envoy Ambassador', 'customer_name': 'Zoe Ballanger', 'country_name': 'United Kingdom', 'amount_sold': Decimal('1782.72')}, {'prod_name': 'Envoy Ambassador', 'customer_name': 'Trevor Manson', 'country_name': 'Spain', 'amount_sold': Decimal('1782.72')}, {'prod_name': 'Envoy Ambassador', 'customer_name': 'Chadwick Klemm', 'country_name': 'Denmark', 'amount_sold': Decimal('1782.72')}, {'prod_name': 'Envoy Ambassador', 'customer_name': 'Zillah Driscoll', 'country_name': 'United Kingdom', 'amount_sold': Decimal('1782.72')}, {'prod_name': 'Envoy Ambassador', 'customer_name': 'Isabel Baley', 'country_name': 'United Kingdom', 'amount_sold': Decimal('1782.72')}, {'prod_name': 'Envoy Ambassador', 'customer_name': 'Ines Lovett', 'country_name': 'Spain', 'amount_sold': Decimal('1782.72')}, {'prod_name': 'Envoy Ambassador', 'customer_name': 'Brett Kugel', 'country_name': 'Germany', 'amount_sold': Decimal('1782.72')}, {'prod_name': 'Envoy Ambassador', 'customer_name': 'Antony Chinn', 'country_name': 'United Kingdom', 'amount_sold': Decimal('1782.72')}, {'prod_name': 'Envoy Ambassador', 'customer_name': 'Harrie Rider', 'country_name': 'Germany', 'amount_sold': Decimal('1782.72')}, {'prod_name': 'Envoy Ambassador', 'customer_name': 'Buddy Chen', 'country_name': 'Germany', 'amount_sold': Decimal('1782.72')}, {'prod_name': 'Envoy Ambassador', 'customer_name': 'Hannah Feldman', 'country_name': 'Germany', 'amount_sold': Decimal('1782.72')}, {'prod_name': 'Envoy Ambassador', 'customer_name': 'Goddard Remler', 'country_name': 'United Kingdom', 'amount_sold': Decimal('1782.72')}, {'prod_name': 'Envoy Ambassador', 'customer_name': 'Desma Janssen', 'country_name': 'Italy', 'amount_sold': Decimal('1782.72')}, {'prod_name': 'Envoy Ambassador', 'customer_name': 'Hannah Gutierrez', 'country_name': 'Germany', 'amount_sold': Decimal('1782.72')}, {'prod_name': 'Envoy Ambassador', 'customer_name': 'Belle East', 'country_name': 'France', 'amount_sold': Decimal('1782.72')}, {'prod_name': 'Envoy Ambassador', 'customer_name': 'Biddy Titus', 'country_name': 'Germany', 'amount_sold': Decimal('1782.72')}, {'prod_name': 'Envoy Ambassador', 'customer_name': 'Regina Ogletree', 'country_name': 'United Kingdom', 'amount_sold': Decimal('1782.72')}, {'prod_name': 'Envoy Ambassador', 'customer_name': 'Riva Dunbar', 'country_name': 'Germany', 'amount_sold': Decimal('1782.72')}, {'prod_name': 'Envoy Ambassador', 'customer_name': 'Isabel Kitchens', 'country_name': 'Germany', 'amount_sold': Decimal('1782.72')}, {'prod_name': 'Envoy Ambassador', 'customer_name': 'Fran Keeting', 'country_name': 'Germany', 'amount_sold': Decimal('1782.72')}]\", additional_kwargs={}, response_metadata={})])"
      ]
     },
     "execution_count": 5,
     "metadata": {},
     "output_type": "execute_result"
    }
   ],
   "source": [
    "# put the data in the chat history\n",
    "msgs = [\n",
    "    HumanMessage(content=\"These data are related to sales\"),\n",
    "    # rows must be string not list\n",
    "    HumanMessage(content=\"data: \\n\" + str(rows)),\n",
    "   \n",
    "]\n",
    "\n",
    "# have a look at the template\n",
    "analyze_template.invoke({\"msgs\": msgs})"
   ]
  },
  {
   "cell_type": "code",
   "execution_count": 6,
   "id": "e3b0342b-71ce-49c5-88f6-48d75ea52e53",
   "metadata": {},
   "outputs": [],
   "source": [
    "# the chain\n",
    "analyze_chain = analyze_template | llm_c"
   ]
  },
  {
   "cell_type": "markdown",
   "id": "e5b57a71-120f-4ca5-bd3b-e992b86873d2",
   "metadata": {},
   "source": [
    "#### Simulate a conversation with a set of requests"
   ]
  },
  {
   "cell_type": "code",
   "execution_count": 7,
   "id": "f6be5336-e942-47e3-af50-7e42ad32b9d6",
   "metadata": {},
   "outputs": [
    {
     "name": "stdout",
     "output_type": "stream",
     "text": [
      "**Sales Report for Envoy Ambassador**\n",
      "\n",
      "**Summary:**\n",
      "\n",
      "The provided data shows sales information for the product \"Envoy Ambassador\" across various countries. The report highlights the total sales, country-wise sales, and customer-wise sales.\n",
      "\n",
      "**Total Sales:**\n",
      "\n",
      "The total sales for Envoy Ambassador amount to **$35,654.40** (calculated by summing up the 'amount_sold' values).\n",
      "\n",
      "**Country-wise Sales:**\n",
      "\n",
      "The sales are distributed across the following countries:\n",
      "\n",
      "1. **United Kingdom**: 6 sales, totaling **$10,696.32**\n",
      "2. **Germany**: 9 sales, totaling **$16,044.48**\n",
      "3. **Spain**: 2 sales, totaling **$3,565.44**\n",
      "4. **Denmark**: 1 sale, totaling **$1,782.72**\n",
      "5. **Italy**: 1 sale, totaling **$1,782.72**\n",
      "6. **France**: 1 sale, totaling **$1,782.72**\n",
      "\n",
      "**Customer-wise Sales:**\n",
      "\n",
      "There are 20 unique customers who purchased Envoy Ambassador. Each customer made a single purchase, with the amount sold being **$1,782.72**.\n",
      "\n",
      "**Top-Selling Countries:**\n",
      "\n",
      "1. Germany (9 sales)\n",
      "2. United Kingdom (6 sales)\n",
      "\n",
      "**Insights:**\n",
      "\n",
      "* Germany and the United Kingdom are the top-selling countries, accounting for 75% of the total sales.\n",
      "* The sales amount is consistent across all customers, indicating a standardized pricing strategy.\n",
      "* The product is sold in multiple European countries, suggesting a strong market presence in the region.\n",
      "\n",
      "This report provides a comprehensive overview of the sales performance of Envoy Ambassador. If you have any specific questions or would like to explore further, please let me know!\n",
      "CPU times: user 39.1 ms, sys: 7.76 ms, total: 46.9 ms\n",
      "Wall time: 20.9 s\n"
     ]
    }
   ],
   "source": [
    "%%time\n",
    "# the first request\n",
    "msgs.append(HumanMessage(content=\"Create a report.\"))\n",
    "            \n",
    "ai_message_out = analyze_chain.invoke({\"msgs\": msgs})\n",
    "print(ai_message_out.content)\n",
    "\n",
    "# save the result in history\n",
    "msgs.append(ai_message_out)"
   ]
  },
  {
   "cell_type": "markdown",
   "id": "cb086df8-0696-490f-a9b5-2607df43d9b6",
   "metadata": {},
   "source": [
    "##### a loop with a set of additional questions (and answers)"
   ]
  },
  {
   "cell_type": "code",
   "execution_count": 8,
   "id": "4a1eea68-acdf-444b-ae52-d230ddc81b8e",
   "metadata": {},
   "outputs": [
    {
     "name": "stdout",
     "output_type": "stream",
     "text": [
      "\n",
      "1 Question: Ok, show me only Country Sales for Spain and Italy\n",
      "\n",
      "Here are the country-wise sales for Spain and Italy:\n",
      "\n",
      "**Country Sales:**\n",
      "\n",
      "1. **Spain**: 2 sales, totaling **$3,565.44**\n",
      "2. **Italy**: 1 sale, totaling **$1,782.72**\n",
      "\n",
      "\n",
      "2 Question: Ok, format all the result in a table.\n",
      "\n",
      "Here are the country-wise sales for Spain and Italy formatted in a table:\n",
      "\n",
      "**Country Sales:**\n",
      "\n",
      "| **Country** | **Number of Sales** | **Total Sales** |\n",
      "| --- | --- | --- |\n",
      "| Spain | 2 | $3,565.44 |\n",
      "| Italy | 1 | $1,782.72 |\n",
      "\n",
      "\n",
      "3 Question: No I wanted all the sales in a table, not only Spain and Italy\n",
      "\n",
      "Here are all the country-wise sales in a table format:\n",
      "\n",
      "**Country Sales:**\n",
      "\n",
      "| **Country** | **Number of Sales** | **Total Sales** |\n",
      "| --- | --- | --- |\n",
      "| United Kingdom | 6 | $10,696.32 |\n",
      "| Germany | 9 | $16,044.48 |\n",
      "| Spain | 2 | $3,565.44 |\n",
      "| Denmark | 1 | $1,782.72 |\n",
      "| Italy | 1 | $1,782.72 |\n",
      "| France | 1 | $1,782.72 |\n",
      "\n",
      "\n",
      "4 Question: Organize the table putting closely rows with the same country\n",
      "\n",
      "Since there are no duplicate countries, the table remains the same. However, I can organize it alphabetically by country to group similar rows together:\n",
      "\n",
      "**Country Sales:**\n",
      "\n",
      "| **Country** | **Number of Sales** | **Total Sales** |\n",
      "| --- | --- | --- |\n",
      "| Denmark | 1 | $1,782.72 |\n",
      "| France | 1 | $1,782.72 |\n",
      "| Germany | 9 | $16,044.48 |\n",
      "| Italy | 1 | $1,782.72 |\n",
      "| Spain | 2 | $3,565.44 |\n",
      "| United Kingdom | 6 | $10,696.32 |\n",
      "\n",
      "\n",
      "5 Question: Oh, but I wanted in the table the rows with sales, \n",
      "                        organize the table putting closely rows witn the same country\n",
      "\n",
      "Since the original data has multiple sales for the same country, I will recreate the table with all the sales data and organize it by country:\n",
      "\n",
      "**Sales Table:**\n",
      "\n",
      "| **Country** | **Customer Name** | **Product Name** | **Amount Sold** |\n",
      "| --- | --- | --- | --- |\n",
      "| Denmark | Chadwick Klemm | Envoy Ambassador | $1,782.72 |\n",
      "| France | Belle East | Envoy Ambassador | $1,782.72 |\n",
      "| Germany | Brett Kugel | Envoy Ambassador | $1,782.72 |\n",
      "| Germany | Harrie Rider | Envoy Ambassador | $1,782.72 |\n",
      "| Germany | Buddy Chen | Envoy Ambassador | $1,782.72 |\n",
      "| Germany | Hannah Feldman | Envoy Ambassador | $1,782.72 |\n",
      "| Germany | Hannah Gutierrez | Envoy Ambassador | $1,782.72 |\n",
      "| Germany | Biddy Titus | Envoy Ambassador | $1,782.72 |\n",
      "| Germany | Riva Dunbar | Envoy Ambassador | $1,782.72 |\n",
      "| Germany | Isabel Kitchens | Envoy Ambassador | $1,782.72 |\n",
      "| Germany | Fran Keeting | Envoy Ambassador | $1,782.72 |\n",
      "| Italy | Desma Janssen | Envoy Ambassador | $1,782.72 |\n",
      "| Spain | Trevor Manson | Envoy Ambassador | $1,782.72 |\n",
      "| Spain | Ines Lovett | Envoy Ambassador | $1,782.72 |\n",
      "| United Kingdom | Zoe Ballanger | Envoy Ambassador | $1,782.72 |\n",
      "| United Kingdom | Zillah Driscoll | Envoy Ambassador | $1,782.72 |\n",
      "| United Kingdom | Isabel Baley | Envoy Ambassador | $1,782.72 |\n",
      "| United Kingdom | Antony Chinn | Envoy Ambassador | $1,782.72 |\n",
      "| United Kingdom | Goddard Remler | Envoy Ambassador | $1,782.72 |\n",
      "| United Kingdom | Regina Ogletree | Envoy Ambassador | $1,782.72 |\n",
      "\n"
     ]
    }
   ],
   "source": [
    "additional_questions = [\"Ok, show me only Country Sales for Spain and Italy\",\n",
    "                       \"Ok, format all the result in a table.\",\n",
    "                       \"No I wanted all the sales in a table, not only Spain and Italy\",\n",
    "                       \"Organize the table putting closely rows with the same country\",\n",
    "                       \"\"\"Oh, but I wanted in the table the rows with sales, \n",
    "                        organize the table by putting closely rows with the same country\"\"\"]\n",
    "\n",
    "#\n",
    "# loop to process the additional questions\n",
    "#\n",
    "for i, new_question in enumerate(additional_questions):\n",
    "    print(\"\")\n",
    "    print(f\"{i+1} Question:\", new_question)\n",
    "    print(\"\")\n",
    "    \n",
    "    # adding the new question\n",
    "    msgs.append(HumanMessage(new_question))\n",
    "\n",
    "    ai_message_out = analyze_chain.invoke({\"msgs\": msgs})\n",
    "    \n",
    "    print(ai_message_out.content)\n",
    "    print(\"\")\n",
    "\n",
    "    # save the result in history\n",
    "    msgs.append(ai_message_out)"
   ]
  },
  {
   "cell_type": "code",
   "execution_count": null,
   "id": "a86ab9d4-ea33-4e38-9856-f30dc0ee1aa6",
   "metadata": {},
   "outputs": [],
   "source": []
  }
 ],
 "metadata": {
  "kernelspec": {
   "display_name": "Python 3 (ipykernel)",
   "language": "python",
   "name": "python3"
  },
  "language_info": {
   "codemirror_mode": {
    "name": "ipython",
    "version": 3
   },
   "file_extension": ".py",
   "mimetype": "text/x-python",
   "name": "python",
   "nbconvert_exporter": "python",
   "pygments_lexer": "ipython3",
   "version": "3.11.0"
  }
 },
 "nbformat": 4,
 "nbformat_minor": 5
}
