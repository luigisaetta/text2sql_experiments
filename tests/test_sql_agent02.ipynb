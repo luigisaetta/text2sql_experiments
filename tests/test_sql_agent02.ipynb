{
 "cells": [
  {
   "cell_type": "markdown",
   "id": "13d0c85c-1e30-48b6-b998-81a00c290b98",
   "metadata": {},
   "source": [
    "### This Notebook show the flow of calls to use the SQL Agent + routing\n",
    "* Text2SQL (this NB is using the ai_sql_agent)\n",
    "* Routing"
   ]
  },
  {
   "cell_type": "code",
   "execution_count": 1,
   "id": "50783b26-eb2c-4b08-802a-49a4ca2c59a9",
   "metadata": {},
   "outputs": [],
   "source": [
    "import os\n",
    "import sys\n",
    "\n",
    "# Set the PYTHONPATH environment variable\n",
    "os.environ['PYTHONPATH'] = '..'\n",
    "\n",
    "# Add it to sys.path so that it's included in the Python import path\n",
    "sys.path.append(os.environ['PYTHONPATH'])"
   ]
  },
  {
   "cell_type": "code",
   "execution_count": 2,
   "id": "d0ea1f3a-06c1-4818-890d-ee4ea62fe248",
   "metadata": {},
   "outputs": [
    {
     "name": "stderr",
     "output_type": "stream",
     "text": [
      "/Users/lsaetta/miniforge3/envs/text2sql/lib/python3.11/site-packages/tqdm/auto.py:21: TqdmWarning: IProgress not found. Please update jupyter and ipywidgets. See https://ipywidgets.readthedocs.io/en/stable/user_install.html\n",
      "  from .autonotebook import tqdm as notebook_tqdm\n"
     ]
    }
   ],
   "source": [
    "from oci_cohere_embeddings_utils import OCIGenAIEmbeddingsWithBatch\n",
    "\n",
    "# only for showing the table of rows in this NB\n",
    "import pandas as pd\n",
    "\n",
    "from langchain_core.prompts import PromptTemplate\n",
    "from database_manager import DatabaseManager\n",
    "from llm_manager import LLMManager\n",
    "from ai_sql_agent import AISQLAgent\n",
    "from router import Router\n",
    "from utils import get_console_logger\n",
    "from prompt_template import PROMPT_TEMPLATE\n",
    "from prompt_routing import PROMPT_CHAT_ON_DATA\n",
    "\n",
    "from config import (\n",
    "    AUTH_TYPE,\n",
    "    CONNECT_ARGS,\n",
    "    MODEL_LIST,\n",
    "    MODEL_ENDPOINTS,\n",
    "    TEMPERATURE,\n",
    "    DEBUG,\n",
    "    EMBED_MODEL_NAME,\n",
    "    EMBED_ENDPOINT,\n",
    "    INDEX_MODEL_FOR_EXPLANATION\n",
    ")\n",
    "from config_private import COMPARTMENT_OCID"
   ]
  },
  {
   "cell_type": "markdown",
   "id": "bacd01bc-137e-474e-bf69-ddfd7bbbcbb2",
   "metadata": {},
   "source": [
    "#### Setup "
   ]
  },
  {
   "cell_type": "code",
   "execution_count": 3,
   "id": "36a87328-2188-4def-a05c-2410019fb2ad",
   "metadata": {},
   "outputs": [
    {
     "name": "stderr",
     "output_type": "stream",
     "text": [
      "2024-10-04 01:39:22,994 - Connecting to the Database...\n",
      "2024-10-04 01:39:23,006 - DB engine created...\n",
      "2024-10-04 01:39:23,007 - Connecting to the Database...\n",
      "2024-10-04 01:39:23,007 - DB engine created...\n",
      "2024-10-04 01:39:23,007 - LLMManager: Initialising the list of models...\n",
      "2024-10-04 01:39:23,007 - Model: meta.llama-3.1-70b-instruct\n",
      "2024-10-04 01:39:23,177 - Model: cohere.command-r-plus\n",
      "2024-10-04 01:39:23,243 - Model: meta.llama-3.1-405b-instruct\n",
      "2024-10-04 01:39:23,373 - Loading Schema Manager...\n",
      "2024-10-04 01:39:23,373 - AI SQL Agent initialized successfully.\n",
      "2024-10-04 01:39:23,373 - LLMManager: Initialising the list of models...\n",
      "2024-10-04 01:39:23,373 - Model: meta.llama-3.1-70b-instruct\n",
      "2024-10-04 01:39:23,439 - Model: cohere.command-r-plus\n",
      "2024-10-04 01:39:23,505 - Model: meta.llama-3.1-405b-instruct\n"
     ]
    }
   ],
   "source": [
    "logger = get_console_logger()\n",
    "\n",
    "# to execute the sql generated\n",
    "db_manager = DatabaseManager(CONNECT_ARGS, logger)\n",
    "\n",
    "ai_sql_agent = AISQLAgent(\n",
    "        CONNECT_ARGS,\n",
    "        MODEL_LIST,\n",
    "        MODEL_ENDPOINTS,\n",
    "        COMPARTMENT_OCID,\n",
    "        EMBED_MODEL_NAME,\n",
    "        EMBED_ENDPOINT,\n",
    "        TEMPERATURE,\n",
    "        PROMPT_TEMPLATE,\n",
    "    )\n",
    "\n",
    "# for the router\n",
    "llm_manager = LLMManager(\n",
    "    MODEL_LIST, MODEL_ENDPOINTS, COMPARTMENT_OCID, TEMPERATURE, logger\n",
    ")\n",
    "\n",
    "router = Router(llm_manager)"
   ]
  },
  {
   "cell_type": "markdown",
   "id": "4cf95b3b-36d1-4d67-94f5-aa65f1a1b9f0",
   "metadata": {},
   "source": [
    "#### The user request"
   ]
  },
  {
   "cell_type": "code",
   "execution_count": 4,
   "id": "bde05c8a-3814-4a03-8218-0d8966f93eae",
   "metadata": {},
   "outputs": [],
   "source": [
    "user_request = \"List the top 20 sales by total amount, with product name, customer name, country name for sales in Europe\""
   ]
  },
  {
   "cell_type": "markdown",
   "id": "90b0bf06-7bf0-438e-b400-a5419fb710ab",
   "metadata": {},
   "source": [
    "#### Generate the SQL"
   ]
  },
  {
   "cell_type": "code",
   "execution_count": 5,
   "id": "aa239dc2-6b6e-4be8-b0a6-fe62e602e89e",
   "metadata": {},
   "outputs": [
    {
     "name": "stderr",
     "output_type": "stream",
     "text": [
      "2024-10-04 01:39:23,575 - Generating restricted schema for user request...\n",
      "2024-10-04 01:39:25,012 - Identifying relevant tables for query...\n",
      "2024-10-04 01:39:25,017 - - COUNTRIES\n",
      "2024-10-04 01:39:25,020 - - SALES\n",
      "2024-10-04 01:39:25,022 - - PRODUCTS\n",
      "2024-10-04 01:39:25,027 - - CHANNELS\n",
      "2024-10-04 01:39:25,028 - - CUSTOMERS\n",
      "2024-10-04 01:39:25,029 - - HR_COUNTRIES\n",
      "2024-10-04 01:39:31,338 - Reranker result:\n",
      "2024-10-04 01:39:31,339 - ['SALES', 'PRODUCTS', 'CUSTOMERS', 'COUNTRIES']\n",
      "2024-10-04 01:39:31,341 - \n",
      "2024-10-04 01:39:31,383 - Restricted schema generated.\n",
      "2024-10-04 01:39:31,385 - Generating SQL query...\n",
      "2024-10-04 01:39:36,458 - SQL query generated.\n"
     ]
    },
    {
     "name": "stdout",
     "output_type": "stream",
     "text": [
      "CPU times: user 256 ms, sys: 46.3 ms, total: 302 ms\n",
      "Wall time: 12.9 s\n"
     ]
    }
   ],
   "source": [
    "%%time\n",
    "sql_query = ai_sql_agent.generate_sql_query(user_request, user_group_id=None)"
   ]
  },
  {
   "cell_type": "code",
   "execution_count": 6,
   "id": "bd5ea63b-812f-4e6c-9e36-0d7a63d231d1",
   "metadata": {},
   "outputs": [
    {
     "name": "stdout",
     "output_type": "stream",
     "text": [
      "SELECT \n",
      "    p.prod_name, \n",
      "    c.cust_first_name || ' ' || c.cust_last_name AS customer_name, \n",
      "    co.country_name, \n",
      "    s.amount_sold\n",
      "FROM \n",
      "    sales s\n",
      "JOIN \n",
      "    products p ON s.prod_id = p.prod_id\n",
      "JOIN \n",
      "    customers c ON s.cust_id = c.cust_id\n",
      "JOIN \n",
      "    countries co ON c.country_id = co.country_id\n",
      "WHERE \n",
      "    co.country_region = 'Europe'\n",
      "ORDER BY \n",
      "    s.amount_sold DESC\n",
      "FETCH FIRST 20 ROWS ONLY\n"
     ]
    }
   ],
   "source": [
    "print(sql_query)"
   ]
  },
  {
   "cell_type": "markdown",
   "id": "af22c868-e15c-48a3-9119-1d78f0d57e35",
   "metadata": {},
   "source": [
    "#### Test the SQL query"
   ]
  },
  {
   "cell_type": "code",
   "execution_count": 7,
   "id": "566eb858-d546-48a0-9083-b5124f69cc1b",
   "metadata": {},
   "outputs": [
    {
     "name": "stderr",
     "output_type": "stream",
     "text": [
      "2024-10-04 01:39:47,721 - Found 20 rows..\n"
     ]
    }
   ],
   "source": [
    "rows = db_manager.execute_sql(sql_query)"
   ]
  },
  {
   "cell_type": "code",
   "execution_count": 8,
   "id": "8c71fab8-c1ab-4ea4-aba4-91abc30566ac",
   "metadata": {},
   "outputs": [
    {
     "data": {
      "text/html": [
       "<div>\n",
       "<style scoped>\n",
       "    .dataframe tbody tr th:only-of-type {\n",
       "        vertical-align: middle;\n",
       "    }\n",
       "\n",
       "    .dataframe tbody tr th {\n",
       "        vertical-align: top;\n",
       "    }\n",
       "\n",
       "    .dataframe thead th {\n",
       "        text-align: right;\n",
       "    }\n",
       "</style>\n",
       "<table border=\"1\" class=\"dataframe\">\n",
       "  <thead>\n",
       "    <tr style=\"text-align: right;\">\n",
       "      <th></th>\n",
       "      <th>amount_sold</th>\n",
       "      <th>country_name</th>\n",
       "      <th>customer_name</th>\n",
       "      <th>prod_name</th>\n",
       "    </tr>\n",
       "  </thead>\n",
       "  <tbody>\n",
       "    <tr>\n",
       "      <th>0</th>\n",
       "      <td>1782.72</td>\n",
       "      <td>United Kingdom</td>\n",
       "      <td>Zoe Ballanger</td>\n",
       "      <td>Envoy Ambassador</td>\n",
       "    </tr>\n",
       "    <tr>\n",
       "      <th>1</th>\n",
       "      <td>1782.72</td>\n",
       "      <td>Spain</td>\n",
       "      <td>Trevor Manson</td>\n",
       "      <td>Envoy Ambassador</td>\n",
       "    </tr>\n",
       "    <tr>\n",
       "      <th>2</th>\n",
       "      <td>1782.72</td>\n",
       "      <td>Denmark</td>\n",
       "      <td>Chadwick Klemm</td>\n",
       "      <td>Envoy Ambassador</td>\n",
       "    </tr>\n",
       "    <tr>\n",
       "      <th>3</th>\n",
       "      <td>1782.72</td>\n",
       "      <td>United Kingdom</td>\n",
       "      <td>Zillah Driscoll</td>\n",
       "      <td>Envoy Ambassador</td>\n",
       "    </tr>\n",
       "    <tr>\n",
       "      <th>4</th>\n",
       "      <td>1782.72</td>\n",
       "      <td>United Kingdom</td>\n",
       "      <td>Isabel Baley</td>\n",
       "      <td>Envoy Ambassador</td>\n",
       "    </tr>\n",
       "    <tr>\n",
       "      <th>5</th>\n",
       "      <td>1782.72</td>\n",
       "      <td>Spain</td>\n",
       "      <td>Ines Lovett</td>\n",
       "      <td>Envoy Ambassador</td>\n",
       "    </tr>\n",
       "    <tr>\n",
       "      <th>6</th>\n",
       "      <td>1782.72</td>\n",
       "      <td>Germany</td>\n",
       "      <td>Brett Kugel</td>\n",
       "      <td>Envoy Ambassador</td>\n",
       "    </tr>\n",
       "    <tr>\n",
       "      <th>7</th>\n",
       "      <td>1782.72</td>\n",
       "      <td>United Kingdom</td>\n",
       "      <td>Antony Chinn</td>\n",
       "      <td>Envoy Ambassador</td>\n",
       "    </tr>\n",
       "    <tr>\n",
       "      <th>8</th>\n",
       "      <td>1782.72</td>\n",
       "      <td>Germany</td>\n",
       "      <td>Harrie Rider</td>\n",
       "      <td>Envoy Ambassador</td>\n",
       "    </tr>\n",
       "    <tr>\n",
       "      <th>9</th>\n",
       "      <td>1782.72</td>\n",
       "      <td>Germany</td>\n",
       "      <td>Buddy Chen</td>\n",
       "      <td>Envoy Ambassador</td>\n",
       "    </tr>\n",
       "    <tr>\n",
       "      <th>10</th>\n",
       "      <td>1782.72</td>\n",
       "      <td>Germany</td>\n",
       "      <td>Hannah Feldman</td>\n",
       "      <td>Envoy Ambassador</td>\n",
       "    </tr>\n",
       "    <tr>\n",
       "      <th>11</th>\n",
       "      <td>1782.72</td>\n",
       "      <td>United Kingdom</td>\n",
       "      <td>Goddard Remler</td>\n",
       "      <td>Envoy Ambassador</td>\n",
       "    </tr>\n",
       "    <tr>\n",
       "      <th>12</th>\n",
       "      <td>1782.72</td>\n",
       "      <td>Italy</td>\n",
       "      <td>Desma Janssen</td>\n",
       "      <td>Envoy Ambassador</td>\n",
       "    </tr>\n",
       "    <tr>\n",
       "      <th>13</th>\n",
       "      <td>1782.72</td>\n",
       "      <td>Germany</td>\n",
       "      <td>Hannah Gutierrez</td>\n",
       "      <td>Envoy Ambassador</td>\n",
       "    </tr>\n",
       "    <tr>\n",
       "      <th>14</th>\n",
       "      <td>1782.72</td>\n",
       "      <td>France</td>\n",
       "      <td>Belle East</td>\n",
       "      <td>Envoy Ambassador</td>\n",
       "    </tr>\n",
       "    <tr>\n",
       "      <th>15</th>\n",
       "      <td>1782.72</td>\n",
       "      <td>Germany</td>\n",
       "      <td>Biddy Titus</td>\n",
       "      <td>Envoy Ambassador</td>\n",
       "    </tr>\n",
       "    <tr>\n",
       "      <th>16</th>\n",
       "      <td>1782.72</td>\n",
       "      <td>United Kingdom</td>\n",
       "      <td>Regina Ogletree</td>\n",
       "      <td>Envoy Ambassador</td>\n",
       "    </tr>\n",
       "    <tr>\n",
       "      <th>17</th>\n",
       "      <td>1782.72</td>\n",
       "      <td>Germany</td>\n",
       "      <td>Riva Dunbar</td>\n",
       "      <td>Envoy Ambassador</td>\n",
       "    </tr>\n",
       "    <tr>\n",
       "      <th>18</th>\n",
       "      <td>1782.72</td>\n",
       "      <td>Germany</td>\n",
       "      <td>Isabel Kitchens</td>\n",
       "      <td>Envoy Ambassador</td>\n",
       "    </tr>\n",
       "    <tr>\n",
       "      <th>19</th>\n",
       "      <td>1782.72</td>\n",
       "      <td>Germany</td>\n",
       "      <td>Fran Keeting</td>\n",
       "      <td>Envoy Ambassador</td>\n",
       "    </tr>\n",
       "  </tbody>\n",
       "</table>\n",
       "</div>"
      ],
      "text/plain": [
       "   amount_sold    country_name     customer_name         prod_name\n",
       "0      1782.72  United Kingdom     Zoe Ballanger  Envoy Ambassador\n",
       "1      1782.72           Spain     Trevor Manson  Envoy Ambassador\n",
       "2      1782.72         Denmark    Chadwick Klemm  Envoy Ambassador\n",
       "3      1782.72  United Kingdom   Zillah Driscoll  Envoy Ambassador\n",
       "4      1782.72  United Kingdom      Isabel Baley  Envoy Ambassador\n",
       "5      1782.72           Spain       Ines Lovett  Envoy Ambassador\n",
       "6      1782.72         Germany       Brett Kugel  Envoy Ambassador\n",
       "7      1782.72  United Kingdom      Antony Chinn  Envoy Ambassador\n",
       "8      1782.72         Germany      Harrie Rider  Envoy Ambassador\n",
       "9      1782.72         Germany        Buddy Chen  Envoy Ambassador\n",
       "10     1782.72         Germany    Hannah Feldman  Envoy Ambassador\n",
       "11     1782.72  United Kingdom    Goddard Remler  Envoy Ambassador\n",
       "12     1782.72           Italy     Desma Janssen  Envoy Ambassador\n",
       "13     1782.72         Germany  Hannah Gutierrez  Envoy Ambassador\n",
       "14     1782.72          France        Belle East  Envoy Ambassador\n",
       "15     1782.72         Germany       Biddy Titus  Envoy Ambassador\n",
       "16     1782.72  United Kingdom   Regina Ogletree  Envoy Ambassador\n",
       "17     1782.72         Germany       Riva Dunbar  Envoy Ambassador\n",
       "18     1782.72         Germany   Isabel Kitchens  Envoy Ambassador\n",
       "19     1782.72         Germany      Fran Keeting  Envoy Ambassador"
      ]
     },
     "execution_count": 8,
     "metadata": {},
     "output_type": "execute_result"
    }
   ],
   "source": [
    "# use Pandas Dataframe for quick display\n",
    "df = pd.DataFrame(rows)\n",
    "\n",
    "df"
   ]
  },
  {
   "cell_type": "markdown",
   "id": "5562b1d0-ad69-4e74-a122-ecaea6b897bc",
   "metadata": {},
   "source": [
    "#### Test **Routing** and **Chat on Data**"
   ]
  },
  {
   "cell_type": "code",
   "execution_count": 9,
   "id": "47479ee9-25e1-4e46-8272-3d6df41acbdf",
   "metadata": {},
   "outputs": [],
   "source": [
    "# setup model for data analysis\n",
    "# this is is only used for data analysis\n",
    "analyze_prompt = PromptTemplate.from_template(PROMPT_CHAT_ON_DATA)\n",
    "\n",
    "# get llm to be used\n",
    "llm_c = llm_manager.llm_models[\n",
    "            INDEX_MODEL_FOR_EXPLANATION]\n",
    "\n",
    "analyze_chain = analyze_prompt | llm_c"
   ]
  },
  {
   "cell_type": "code",
   "execution_count": 10,
   "id": "f1523e87-e1f5-47ea-9241-f37d3ba7413f",
   "metadata": {},
   "outputs": [],
   "source": [
    "# requests\n",
    "# this is the list of request that will be processed\n",
    "requests_list = [\"List the top 20 sales by total amount, with product name, customer name, country name for sales in Europe\",\n",
    "                 \"Analyze the data retrieved. Create a report.\",\n",
    "                 \"Generate another report on the data. I need a breakdown for country.\",\n",
    "                 \"Extract only the data regarding Italy and Spain and format in a table\"]"
   ]
  },
  {
   "cell_type": "code",
   "execution_count": 11,
   "id": "63355e52-1448-4b1d-8f27-6695b258f943",
   "metadata": {},
   "outputs": [],
   "source": [
    "#\n",
    "# dispatching logic: every function is a tool\n",
    "#\n",
    "def generate_sql_handler(request):\n",
    "    sql_query = ai_sql_agent.generate_sql_query(request, user_group_id=None)\n",
    "    data = db_manager.execute_sql(sql_query)\n",
    "\n",
    "    # display data\n",
    "    df = pd.DataFrame(data)\n",
    "    print(df)\n",
    "    print(\"\")\n",
    "    return data  # Returning data to use in further actions if needed\n",
    "\n",
    "\n",
    "def analyze_data_handler(request, data):\n",
    "    print(\"Analyzing data...\")\n",
    "\n",
    "    result = analyze_chain.invoke({\"data\": data, \"question\": request})\n",
    "\n",
    "    print(\"\")\n",
    "    print(\"Analysis of data:\")\n",
    "    print(result.content)\n",
    "    print(\"\")\n",
    "\n",
    "\n",
    "def not_defined_handler(request):\n",
    "    # chatbot needs to ask for more info\n",
    "    more_info = \"Please add more details on what you want me to do..\"\n",
    "    \n",
    "    print(more_info)\n",
    "\n",
    "    return more_info\n",
    "\n",
    "\n",
    "# Create a dispatch table (dictionary) for classification types\n",
    "dispatch_table = {\n",
    "    \"generate_sql\": generate_sql_handler,\n",
    "    \"analyze_data\": analyze_data_handler,\n",
    "    \"not_defined\": not_defined_handler,\n",
    "}"
   ]
  },
  {
   "cell_type": "code",
   "execution_count": 12,
   "id": "04b07333-1961-4ab9-8204-546ce57a5ed8",
   "metadata": {},
   "outputs": [
    {
     "name": "stdout",
     "output_type": "stream",
     "text": [
      "\n",
      "--> request is:  List the top 20 sales by total amount, with product name, customer name, country name for sales in Europe\n"
     ]
    },
    {
     "name": "stderr",
     "output_type": "stream",
     "text": [
      "2024-10-04 01:39:49,230 - Generating restricted schema for user request...\n"
     ]
    },
    {
     "name": "stdout",
     "output_type": "stream",
     "text": [
      "request classified as:  generate_sql\n"
     ]
    },
    {
     "name": "stderr",
     "output_type": "stream",
     "text": [
      "2024-10-04 01:39:50,358 - Identifying relevant tables for query...\n",
      "2024-10-04 01:39:50,361 - - COUNTRIES\n",
      "2024-10-04 01:39:50,362 - - SALES\n",
      "2024-10-04 01:39:50,366 - - PRODUCTS\n",
      "2024-10-04 01:39:50,367 - - CHANNELS\n",
      "2024-10-04 01:39:50,368 - - CUSTOMERS\n",
      "2024-10-04 01:39:50,368 - - HR_COUNTRIES\n",
      "2024-10-04 01:39:52,229 - Reranker result:\n",
      "2024-10-04 01:39:52,230 - ['SALES', 'PRODUCTS', 'CUSTOMERS', 'COUNTRIES']\n",
      "2024-10-04 01:39:52,232 - \n",
      "2024-10-04 01:39:52,268 - Restricted schema generated.\n",
      "2024-10-04 01:39:52,271 - Generating SQL query...\n",
      "2024-10-04 01:39:55,399 - SQL query generated.\n",
      "2024-10-04 01:40:05,962 - Found 20 rows..\n"
     ]
    },
    {
     "name": "stdout",
     "output_type": "stream",
     "text": [
      "   amount_sold    country_name     customer_name         prod_name\n",
      "0      1782.72  United Kingdom     Zoe Ballanger  Envoy Ambassador\n",
      "1      1782.72           Spain     Trevor Manson  Envoy Ambassador\n",
      "2      1782.72         Denmark    Chadwick Klemm  Envoy Ambassador\n",
      "3      1782.72  United Kingdom   Zillah Driscoll  Envoy Ambassador\n",
      "4      1782.72  United Kingdom      Isabel Baley  Envoy Ambassador\n",
      "5      1782.72           Spain       Ines Lovett  Envoy Ambassador\n",
      "6      1782.72         Germany       Brett Kugel  Envoy Ambassador\n",
      "7      1782.72  United Kingdom      Antony Chinn  Envoy Ambassador\n",
      "8      1782.72         Germany      Harrie Rider  Envoy Ambassador\n",
      "9      1782.72         Germany        Buddy Chen  Envoy Ambassador\n",
      "10     1782.72         Germany    Hannah Feldman  Envoy Ambassador\n",
      "11     1782.72  United Kingdom    Goddard Remler  Envoy Ambassador\n",
      "12     1782.72           Italy     Desma Janssen  Envoy Ambassador\n",
      "13     1782.72         Germany  Hannah Gutierrez  Envoy Ambassador\n",
      "14     1782.72          France        Belle East  Envoy Ambassador\n",
      "15     1782.72         Germany       Biddy Titus  Envoy Ambassador\n",
      "16     1782.72  United Kingdom   Regina Ogletree  Envoy Ambassador\n",
      "17     1782.72         Germany       Riva Dunbar  Envoy Ambassador\n",
      "18     1782.72         Germany   Isabel Kitchens  Envoy Ambassador\n",
      "19     1782.72         Germany      Fran Keeting  Envoy Ambassador\n",
      "\n",
      "\n",
      "--> request is:  Analyze the data retrieved. Create a report.\n",
      "request classified as:  analyze_data\n",
      "Analyzing data...\n",
      "\n",
      "Analysis of data:\n",
      "**Sales Report for Envoy Ambassador**\n",
      "\n",
      "**Summary**\n",
      "\n",
      "The data retrieved shows sales information for the product \"Envoy Ambassador\" across various countries. The report analyzes the sales data to provide insights into the product's performance.\n",
      "\n",
      "**Key Findings**\n",
      "\n",
      "1. **Total Sales**: The total sales for Envoy Ambassador amount to **$35,654.40** (calculated by summing up the `amount_sold` values).\n",
      "2. **Country-wise Sales**:\n",
      "\t* **Germany**: 8 sales, totaling **$14,261.76** (40% of total sales)\n",
      "\t* **United Kingdom**: 6 sales, totaling **$10,696.32** (30% of total sales)\n",
      "\t* **Spain**: 2 sales, totaling **$3,565.44** (10% of total sales)\n",
      "\t* **Italy**: 1 sale, totaling **$1,782.72** (5% of total sales)\n",
      "\t* **France**: 1 sale, totaling **$1,782.72** (5% of total sales)\n",
      "\t* **Denmark**: 1 sale, totaling **$1,782.72** (5% of total sales)\n",
      "3. **Customer Distribution**: There are **20 unique customers** across the countries, with no customer purchasing the product more than once.\n",
      "\n",
      "**Insights**\n",
      "\n",
      "* Germany is the largest market for Envoy Ambassador, accounting for 40% of total sales.\n",
      "* The United Kingdom is the second-largest market, with 30% of total sales.\n",
      "* The product has a relatively even distribution of sales across other European countries.\n",
      "* Each customer has purchased the product only once, indicating a potential opportunity to increase repeat business.\n",
      "\n",
      "**Recommendations**\n",
      "\n",
      "* Focus marketing efforts on Germany and the United Kingdom to further increase sales in these key markets.\n",
      "* Explore opportunities to expand sales in other European countries, such as France, Italy, and Spain.\n",
      "* Develop strategies to encourage repeat business from existing customers.\n",
      "\n",
      "\n",
      "--> request is:  Generate another report on the data. I need a breakdown for country.\n",
      "request classified as:  analyze_data\n",
      "Analyzing data...\n",
      "\n",
      "Analysis of data:\n",
      "Based on the provided data, here is a breakdown of the sales by country:\n",
      "\n",
      "**Country-wise Sales Report**\n",
      "\n",
      "1. **Germany**: 9 sales, Total Amount Sold: 16,044.48 (9 x 1782.72)\n",
      "2. **United Kingdom**: 6 sales, Total Amount Sold: 10,696.32 (6 x 1782.72)\n",
      "3. **Spain**: 2 sales, Total Amount Sold: 3,565.44 (2 x 1782.72)\n",
      "4. **Denmark**: 1 sale, Total Amount Sold: 1782.72\n",
      "5. **Italy**: 1 sale, Total Amount Sold: 1782.72\n",
      "6. **France**: 1 sale, Total Amount Sold: 1782.72\n",
      "\n",
      "Note that the total amount sold for each country is calculated by multiplying the number of sales by the amount sold per sale (which is 1782.72 in this case). Let me know if you have any further questions or if there's anything else I can help you with!\n",
      "\n",
      "\n",
      "--> request is:  Extract only the data regarding Italy and Spain and format in a table\n",
      "request classified as:  analyze_data\n",
      "Analyzing data...\n",
      "\n",
      "Analysis of data:\n",
      "Based on the provided data, here is the extracted data regarding Italy and Spain, formatted in a table:\n",
      "\n",
      "| **Product Name** | **Customer Name** | **Country Name** | **Amount Sold** |\n",
      "| --- | --- | --- | --- |\n",
      "| Envoy Ambassador | Desma Janssen | Italy | 1782.72 |\n",
      "| Envoy Ambassador | Trevor Manson | Spain | 1782.72 |\n",
      "| Envoy Ambassador | Ines Lovett | Spain | 1782.72 |\n",
      "\n",
      "Let me know if you'd like me to help with anything else!\n",
      "\n"
     ]
    }
   ],
   "source": [
    "for request in requests_list:\n",
    "    print(\"\")\n",
    "    print(\"--> request is: \", request)\n",
    "\n",
    "    # classify the request using the router\n",
    "    classification = router.classify(request)\n",
    "    print(\"request classified as: \", classification)\n",
    "\n",
    "    # Act based on classification type\n",
    "    if classification in dispatch_table:\n",
    "        # 'generate_sql_handler' returns data, and we pass it to 'analyze_data_handler' if needed\n",
    "        if classification == \"generate_sql\":\n",
    "            data = dispatch_table[classification](request)  # Get data to reuse\n",
    "        elif classification == \"analyze_data\":\n",
    "            dispatch_table[classification](request, data)\n",
    "        else:\n",
    "            more_info = dispatch_table[classification](request)\n",
    "    else:\n",
    "        print(\"Invalid classification provided.\")"
   ]
  },
  {
   "cell_type": "code",
   "execution_count": null,
   "id": "e4fff6eb-7e37-4d2e-bacb-2bb9c7dcacb4",
   "metadata": {},
   "outputs": [],
   "source": []
  }
 ],
 "metadata": {
  "kernelspec": {
   "display_name": "Python 3 (ipykernel)",
   "language": "python",
   "name": "python3"
  },
  "language_info": {
   "codemirror_mode": {
    "name": "ipython",
    "version": 3
   },
   "file_extension": ".py",
   "mimetype": "text/x-python",
   "name": "python",
   "nbconvert_exporter": "python",
   "pygments_lexer": "ipython3",
   "version": "3.11.0"
  }
 },
 "nbformat": 4,
 "nbformat_minor": 5
}
