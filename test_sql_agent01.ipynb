{
 "cells": [
  {
   "cell_type": "markdown",
   "id": "13d0c85c-1e30-48b6-b998-81a00c290b98",
   "metadata": {},
   "source": [
    "### This Notebook show the flow of calls to use the SQL Agent and enable a quick test\n",
    "* This NB only covers **Text2SQL**, not the query explanation"
   ]
  },
  {
   "cell_type": "code",
   "execution_count": 1,
   "id": "50783b26-eb2c-4b08-802a-49a4ca2c59a9",
   "metadata": {},
   "outputs": [],
   "source": [
    "from langchain_community.embeddings import OCIGenAIEmbeddings\n",
    "\n",
    "# only for showing the table of rows in this NB\n",
    "import pandas as pd\n",
    "from decimal import Decimal\n",
    "\n",
    "from database_manager import DatabaseManager\n",
    "from llm_manager import LLMManager\n",
    "from schema_manager_23ai import SchemaManager23AI\n",
    "from core_functions import generate_sql_with_models\n",
    "from utils import get_console_logger\n",
    "from prompt_template import PROMPT_TEMPLATE\n",
    "\n",
    "from config import (\n",
    "    CONNECT_ARGS,\n",
    "    MODEL_LIST,\n",
    "    ENDPOINT,\n",
    "    TEMPERATURE,\n",
    "    DEBUG,\n",
    "    EMBED_MODEL_NAME,\n",
    ")\n",
    "from config_private import COMPARTMENT_OCID"
   ]
  },
  {
   "cell_type": "markdown",
   "id": "bacd01bc-137e-474e-bf69-ddfd7bbbcbb2",
   "metadata": {},
   "source": [
    "#### Setup "
   ]
  },
  {
   "cell_type": "code",
   "execution_count": 2,
   "id": "36a87328-2188-4def-a05c-2410019fb2ad",
   "metadata": {},
   "outputs": [
    {
     "name": "stderr",
     "output_type": "stream",
     "text": [
      "2024-09-19 13:11:18,167 - Connecting to the Database...\n",
      "2024-09-19 13:11:18,179 - Connected, DB engine created...\n",
      "2024-09-19 13:11:18,180 - LLMManager: Initialising the list of models...\n",
      "2024-09-19 13:11:18,180 - Model: meta.llama-3-70b-instruct\n",
      "2024-09-19 13:11:18,344 - Model: cohere.command-r-plus\n",
      "2024-09-19 13:11:18,474 - \n",
      "2024-09-19 13:11:18,475 - Loading Schema Manager...\n"
     ]
    }
   ],
   "source": [
    "logger = get_console_logger()\n",
    "\n",
    "db_manager = DatabaseManager(CONNECT_ARGS, logger)\n",
    "llm_manager = LLMManager(MODEL_LIST, ENDPOINT, COMPARTMENT_OCID, TEMPERATURE, logger)\n",
    "\n",
    "embed_model = OCIGenAIEmbeddings(\n",
    "    model_id=EMBED_MODEL_NAME,\n",
    "    service_endpoint=ENDPOINT,\n",
    "    compartment_id=COMPARTMENT_OCID,\n",
    ")\n",
    "\n",
    "logger.info(\"\")\n",
    "logger.info(\"Loading Schema Manager...\")\n",
    "\n",
    "schema_manager = SchemaManager23AI(db_manager, llm_manager, embed_model, logger)"
   ]
  },
  {
   "cell_type": "markdown",
   "id": "4cf95b3b-36d1-4d67-94f5-aa65f1a1b9f0",
   "metadata": {},
   "source": [
    "#### The user request"
   ]
  },
  {
   "cell_type": "code",
   "execution_count": 3,
   "id": "bde05c8a-3814-4a03-8218-0d8966f93eae",
   "metadata": {},
   "outputs": [],
   "source": [
    "user_request = \"List the top 10 sales by total amount, with product name, customer name, country name for sales in Europe\""
   ]
  },
  {
   "cell_type": "markdown",
   "id": "fd7d0074-c9e5-47db-938c-3d93c398e07a",
   "metadata": {},
   "source": [
    "#### Generate the schema for the request"
   ]
  },
  {
   "cell_type": "code",
   "execution_count": 9,
   "id": "9638f604-c1ef-4e40-9df2-354f523c792e",
   "metadata": {},
   "outputs": [
    {
     "name": "stderr",
     "output_type": "stream",
     "text": [
      "2024-09-19 13:14:05,196 - Identifying relevant tables for query...\n",
      "2024-09-19 13:14:05,198 - - COUNTRIES\n",
      "2024-09-19 13:14:05,199 - - SALES\n",
      "2024-09-19 13:14:05,202 - - PRODUCTS\n",
      "2024-09-19 13:14:05,204 - - LOCATIONS\n",
      "2024-09-19 13:14:05,206 - - HR_COUNTRIES\n",
      "2024-09-19 13:14:05,214 - - CHANNELS\n"
     ]
    },
    {
     "name": "stdout",
     "output_type": "stream",
     "text": [
      "CPU times: user 85.9 ms, sys: 13.2 ms, total: 99 ms\n",
      "Wall time: 1.49 s\n"
     ]
    }
   ],
   "source": [
    "%%time\n",
    "RESTRICTED_SCHEMA = schema_manager.get_restricted_schema(user_request)"
   ]
  },
  {
   "cell_type": "markdown",
   "id": "90b0bf06-7bf0-438e-b400-a5419fb710ab",
   "metadata": {},
   "source": [
    "#### Generate the SQL"
   ]
  },
  {
   "cell_type": "code",
   "execution_count": 10,
   "id": "aa239dc2-6b6e-4be8-b0a6-fe62e602e89e",
   "metadata": {},
   "outputs": [
    {
     "name": "stdout",
     "output_type": "stream",
     "text": [
      "CPU times: user 17.6 ms, sys: 3.85 ms, total: 21.4 ms\n",
      "Wall time: 2.84 s\n"
     ]
    }
   ],
   "source": [
    "%%time\n",
    "sql_query = generate_sql_with_models(\n",
    "        user_request, RESTRICTED_SCHEMA, db_manager, llm_manager, PROMPT_TEMPLATE\n",
    ")"
   ]
  },
  {
   "cell_type": "code",
   "execution_count": 6,
   "id": "bd5ea63b-812f-4e6c-9e36-0d7a63d231d1",
   "metadata": {},
   "outputs": [
    {
     "name": "stdout",
     "output_type": "stream",
     "text": [
      "SELECT \n",
      "    p.prod_name, \n",
      "    c.cust_first_name || ' ' || c.cust_last_name AS customer_name, \n",
      "    co.country_name, \n",
      "    s.amount_sold\n",
      "FROM \n",
      "    sales s\n",
      "JOIN \n",
      "    products p ON s.prod_id = p.prod_id\n",
      "JOIN \n",
      "    customers c ON s.cust_id = c.cust_id\n",
      "JOIN \n",
      "    countries co ON c.country_id = co.country_id\n",
      "WHERE \n",
      "    co.country_region = 'Europe'\n",
      "ORDER BY \n",
      "    s.amount_sold DESC\n",
      "FETCH FIRST 10 ROWS ONLY\n"
     ]
    }
   ],
   "source": [
    "print(sql_query)"
   ]
  },
  {
   "cell_type": "markdown",
   "id": "af22c868-e15c-48a3-9119-1d78f0d57e35",
   "metadata": {},
   "source": [
    "#### Test the SQL query"
   ]
  },
  {
   "cell_type": "code",
   "execution_count": 7,
   "id": "566eb858-d546-48a0-9083-b5124f69cc1b",
   "metadata": {},
   "outputs": [
    {
     "name": "stderr",
     "output_type": "stream",
     "text": [
      "2024-09-19 13:11:23,771 - Found 10 rows..\n"
     ]
    }
   ],
   "source": [
    "rows = db_manager.execute_sql(sql_query)"
   ]
  },
  {
   "cell_type": "code",
   "execution_count": 8,
   "id": "8c71fab8-c1ab-4ea4-aba4-91abc30566ac",
   "metadata": {},
   "outputs": [
    {
     "data": {
      "text/html": [
       "<div>\n",
       "<style scoped>\n",
       "    .dataframe tbody tr th:only-of-type {\n",
       "        vertical-align: middle;\n",
       "    }\n",
       "\n",
       "    .dataframe tbody tr th {\n",
       "        vertical-align: top;\n",
       "    }\n",
       "\n",
       "    .dataframe thead th {\n",
       "        text-align: right;\n",
       "    }\n",
       "</style>\n",
       "<table border=\"1\" class=\"dataframe\">\n",
       "  <thead>\n",
       "    <tr style=\"text-align: right;\">\n",
       "      <th></th>\n",
       "      <th>amount_sold</th>\n",
       "      <th>country_name</th>\n",
       "      <th>customer_name</th>\n",
       "      <th>prod_name</th>\n",
       "    </tr>\n",
       "  </thead>\n",
       "  <tbody>\n",
       "    <tr>\n",
       "      <th>0</th>\n",
       "      <td>1782.72</td>\n",
       "      <td>United Kingdom</td>\n",
       "      <td>Zoe Ballanger</td>\n",
       "      <td>Envoy Ambassador</td>\n",
       "    </tr>\n",
       "    <tr>\n",
       "      <th>1</th>\n",
       "      <td>1782.72</td>\n",
       "      <td>United Kingdom</td>\n",
       "      <td>Goddard Remler</td>\n",
       "      <td>Envoy Ambassador</td>\n",
       "    </tr>\n",
       "    <tr>\n",
       "      <th>2</th>\n",
       "      <td>1782.72</td>\n",
       "      <td>Italy</td>\n",
       "      <td>Desma Janssen</td>\n",
       "      <td>Envoy Ambassador</td>\n",
       "    </tr>\n",
       "    <tr>\n",
       "      <th>3</th>\n",
       "      <td>1782.72</td>\n",
       "      <td>Germany</td>\n",
       "      <td>Hannah Gutierrez</td>\n",
       "      <td>Envoy Ambassador</td>\n",
       "    </tr>\n",
       "    <tr>\n",
       "      <th>4</th>\n",
       "      <td>1782.72</td>\n",
       "      <td>France</td>\n",
       "      <td>Belle East</td>\n",
       "      <td>Envoy Ambassador</td>\n",
       "    </tr>\n",
       "    <tr>\n",
       "      <th>5</th>\n",
       "      <td>1782.72</td>\n",
       "      <td>Germany</td>\n",
       "      <td>Biddy Titus</td>\n",
       "      <td>Envoy Ambassador</td>\n",
       "    </tr>\n",
       "    <tr>\n",
       "      <th>6</th>\n",
       "      <td>1782.72</td>\n",
       "      <td>United Kingdom</td>\n",
       "      <td>Regina Ogletree</td>\n",
       "      <td>Envoy Ambassador</td>\n",
       "    </tr>\n",
       "    <tr>\n",
       "      <th>7</th>\n",
       "      <td>1782.72</td>\n",
       "      <td>Germany</td>\n",
       "      <td>Riva Dunbar</td>\n",
       "      <td>Envoy Ambassador</td>\n",
       "    </tr>\n",
       "    <tr>\n",
       "      <th>8</th>\n",
       "      <td>1782.72</td>\n",
       "      <td>Germany</td>\n",
       "      <td>Isabel Kitchens</td>\n",
       "      <td>Envoy Ambassador</td>\n",
       "    </tr>\n",
       "    <tr>\n",
       "      <th>9</th>\n",
       "      <td>1782.72</td>\n",
       "      <td>Germany</td>\n",
       "      <td>Fran Keeting</td>\n",
       "      <td>Envoy Ambassador</td>\n",
       "    </tr>\n",
       "  </tbody>\n",
       "</table>\n",
       "</div>"
      ],
      "text/plain": [
       "  amount_sold    country_name     customer_name         prod_name\n",
       "0     1782.72  United Kingdom     Zoe Ballanger  Envoy Ambassador\n",
       "1     1782.72  United Kingdom    Goddard Remler  Envoy Ambassador\n",
       "2     1782.72           Italy     Desma Janssen  Envoy Ambassador\n",
       "3     1782.72         Germany  Hannah Gutierrez  Envoy Ambassador\n",
       "4     1782.72          France        Belle East  Envoy Ambassador\n",
       "5     1782.72         Germany       Biddy Titus  Envoy Ambassador\n",
       "6     1782.72  United Kingdom   Regina Ogletree  Envoy Ambassador\n",
       "7     1782.72         Germany       Riva Dunbar  Envoy Ambassador\n",
       "8     1782.72         Germany   Isabel Kitchens  Envoy Ambassador\n",
       "9     1782.72         Germany      Fran Keeting  Envoy Ambassador"
      ]
     },
     "execution_count": 8,
     "metadata": {},
     "output_type": "execute_result"
    }
   ],
   "source": [
    "# use Pandas Dataframe for quick display\n",
    "df = pd.DataFrame(rows)\n",
    "\n",
    "df"
   ]
  },
  {
   "cell_type": "code",
   "execution_count": null,
   "id": "bb61ab93-2e7a-4e5d-92e8-b1e246d2414a",
   "metadata": {},
   "outputs": [],
   "source": []
  }
 ],
 "metadata": {
  "kernelspec": {
   "display_name": "Python 3 (ipykernel)",
   "language": "python",
   "name": "python3"
  },
  "language_info": {
   "codemirror_mode": {
    "name": "ipython",
    "version": 3
   },
   "file_extension": ".py",
   "mimetype": "text/x-python",
   "name": "python",
   "nbconvert_exporter": "python",
   "pygments_lexer": "ipython3",
   "version": "3.11.0"
  }
 },
 "nbformat": 4,
 "nbformat_minor": 5
}
